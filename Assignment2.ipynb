{
 "cells": [
  {
   "cell_type": "code",
   "execution_count": 13,
   "id": "bf833954-b2e4-42c4-9ee9-4562381e4de2",
   "metadata": {},
   "outputs": [],
   "source": [
    "%matplotlib inline\n",
    "\n",
    "import numpy as np\n",
    "import pandas as pd\n",
    "import matplotlib.pyplot as plt\n",
    "\n",
    "from sklearn import metrics\n",
    "from sklearn import preprocessing\n",
    "from sklearn.linear_model import LinearRegression\n",
    "from sklearn.model_selection import train_test_split\n",
    "\n",
    "url = \"https://raw.githubusercontent.com/umaimehm/Intro_to_AI_2021/main/assignment2-machinelearning/TSLA.csv\"\n",
    "df = pd.read_csv(url)"
   ]
  },
  {
   "cell_type": "markdown",
   "id": "37bb2a95-a00b-4821-82db-2cd50aa0ee01",
   "metadata": {},
   "source": []
  },
  {
   "cell_type": "code",
   "execution_count": 6,
   "id": "2952e25e-869b-4e37-88e4-4983814a4227",
   "metadata": {},
   "outputs": [
    {
     "data": {
      "text/plain": [
       "<AxesSubplot:xlabel='Date', ylabel='Close'>"
      ]
     },
     "execution_count": 6,
     "metadata": {},
     "output_type": "execute_result"
    },
    {
     "data": {
      "image/png": "[encoded data removed]",
      "text/plain": [
       "<Figure size 432x288 with 1 Axes>"
      ]
     },
     "metadata": {
      "needs_background": "light"
     },
     "output_type": "display_data"
    }
   ],
   "source": [
    "df.plot.scatter(x = 'Date', y = 'Close')"
   ]
  },
  {
   "cell_type": "code",
   "execution_count": 229,
   "id": "51da3796-f717-46d8-9d1a-4d1c39893a08",
   "metadata": {},
   "outputs": [
    {
     "data": {
      "text/html": [
       "<div>\n",
       "<style scoped>\n",
       "    .dataframe tbody tr th:only-of-type {\n",
       "        vertical-align: middle;\n",
       "    }\n",
       "\n",
       "    .dataframe tbody tr th {\n",
       "        vertical-align: top;\n",
       "    }\n",
       "\n",
       "    .dataframe thead th {\n",
       "        text-align: right;\n",
       "    }\n",
       "</style>\n",
       "<table border=\"1\" class=\"dataframe\">\n",
       "  <thead>\n",
       "    <tr style=\"text-align: right;\">\n",
       "      <th></th>\n",
       "      <th>0</th>\n",
       "      <th>1</th>\n",
       "      <th>2</th>\n",
       "      <th>3</th>\n",
       "      <th>4</th>\n",
       "      <th>5</th>\n",
       "      <th>6</th>\n",
       "    </tr>\n",
       "  </thead>\n",
       "  <tbody>\n",
       "    <tr>\n",
       "      <th>0</th>\n",
       "      <td>733952</td>\n",
       "      <td>3.8</td>\n",
       "      <td>5.0</td>\n",
       "      <td>3.508</td>\n",
       "      <td>4.778</td>\n",
       "      <td>4.778</td>\n",
       "      <td>93831500</td>\n",
       "    </tr>\n",
       "    <tr>\n",
       "      <th>1</th>\n",
       "      <td>733953</td>\n",
       "      <td>5.158</td>\n",
       "      <td>6.084</td>\n",
       "      <td>4.66</td>\n",
       "      <td>4.766</td>\n",
       "      <td>4.766</td>\n",
       "      <td>85935500</td>\n",
       "    </tr>\n",
       "    <tr>\n",
       "      <th>2</th>\n",
       "      <td>733954</td>\n",
       "      <td>5.0</td>\n",
       "      <td>5.184</td>\n",
       "      <td>4.054</td>\n",
       "      <td>4.392</td>\n",
       "      <td>4.392</td>\n",
       "      <td>41094000</td>\n",
       "    </tr>\n",
       "    <tr>\n",
       "      <th>3</th>\n",
       "      <td>733955</td>\n",
       "      <td>4.6</td>\n",
       "      <td>4.62</td>\n",
       "      <td>3.742</td>\n",
       "      <td>3.84</td>\n",
       "      <td>3.84</td>\n",
       "      <td>25699000</td>\n",
       "    </tr>\n",
       "    <tr>\n",
       "      <th>4</th>\n",
       "      <td>733959</td>\n",
       "      <td>4.0</td>\n",
       "      <td>4.0</td>\n",
       "      <td>3.166</td>\n",
       "      <td>3.222</td>\n",
       "      <td>3.222</td>\n",
       "      <td>34334500</td>\n",
       "    </tr>\n",
       "  </tbody>\n",
       "</table>\n",
       "</div>"
      ],
      "text/plain": [
       "        0      1      2      3      4      5         6\n",
       "0  733952    3.8    5.0  3.508  4.778  4.778  93831500\n",
       "1  733953  5.158  6.084   4.66  4.766  4.766  85935500\n",
       "2  733954    5.0  5.184  4.054  4.392  4.392  41094000\n",
       "3  733955    4.6   4.62  3.742   3.84   3.84  25699000\n",
       "4  733959    4.0    4.0  3.166  3.222  3.222  34334500"
      ]
     },
     "execution_count": 229,
     "metadata": {},
     "output_type": "execute_result"
    }
   ],
   "source": [
    "df = pd.DataFrame(x)\n",
    "#df[0] = df[0].str.replace('-','')\n",
    "#df[0]= pd.to_datetime(df[0],format='%Y-%m-%d')\n",
    "\n",
    "import datetime as dt\n",
    "df[0] = pd.to_datetime(df[0])\n",
    "df[0]=df[0].map(dt.datetime.toordinal)\n",
    "df.head()"
   ]
  },
  {
   "cell_type": "code",
   "execution_count": 235,
   "id": "8a7398cb-f33f-489c-8d79-3ba51979fbf1",
   "metadata": {},
   "outputs": [],
   "source": [
    "X = pd.DataFrame(df[0]) #Date\n",
    "y = pd.DataFrame(df[4]) #Close"
   ]
  },
  {
   "cell_type": "code",
   "execution_count": 236,
   "id": "d40d9922-621c-4e85-98f1-a13eaf1c6351",
   "metadata": {},
   "outputs": [],
   "source": [
    "#Now, split the set in training and testing set\n",
    "#test_size = 0.33 tell the function that 1/3 of values should be put in test arrat\n",
    "#Random state is a variable that seeds the random generator. In that way\n",
    "#you'll get the same training and testing set each run\n",
    "X_train, X_test, y_train, y_test = train_test_split(X, y, test_size=0.90, random_state=42)"
   ]
  },
  {
   "cell_type": "code",
   "execution_count": 237,
   "id": "1c36a74b-77d1-477e-bf3f-78dd43dd6130",
   "metadata": {},
   "outputs": [],
   "source": [
    "linear_regressor = LinearRegression()  # create object for the class\n",
    "linear_regressor.fit(X_train, y_train)  # perform linear regression\n",
    "Y_pred = linear_regressor.predict(X_train)  # make predictions"
   ]
  },
  {
   "cell_type": "code",
   "execution_count": 238,
   "id": "57bb8b9f-a4b1-413e-a52b-ec14706570c8",
   "metadata": {},
   "outputs": [
    {
     "name": "stdout",
     "output_type": "stream",
     "text": [
      "0       733952\n",
      "1       733953\n",
      "2       733954\n",
      "3       733955\n",
      "4       733959\n",
      "         ...  \n",
      "2840    738071\n",
      "2841    738074\n",
      "2842    738075\n",
      "2843    738076\n",
      "2844    738077\n",
      "Name: 0, Length: 2845, dtype: int64\n"
     ]
    }
   ],
   "source": [
    "print(df[0])"
   ]
  },
  {
   "cell_type": "code",
   "execution_count": 239,
   "id": "365f1fa9-3aed-482a-b295-337d558ab542",
   "metadata": {},
   "outputs": [
    {
     "data": {
      "image/png": "[encoded data removed]",
      "text/plain": [
       "<Figure size 432x288 with 1 Axes>"
      ]
     },
     "metadata": {
      "needs_background": "light"
     },
     "output_type": "display_data"
    },
    {
     "name": "stdout",
     "output_type": "stream",
     "text": [
      "MSE = 22351.895572311532\n"
     ]
    }
   ],
   "source": [
    "plt.scatter(X_train, y_train)\n",
    "plt.plot(X_train, Y_pred, color='red')\n",
    "plt.show()\n",
    "print( \"MSE = \"+str(metrics.mean_squared_error(y_train,Y_pred)))"
   ]
  },
  {
   "cell_type": "code",
   "execution_count": null,
   "id": "eb31a9ca-e399-4499-a2e6-b5d60011c89e",
   "metadata": {},
   "outputs": [],
   "source": []
  },
  {
   "cell_type": "code",
   "execution_count": null,
   "id": "c0948f08-58d5-4cdb-9a94-a46a3586d013",
   "metadata": {},
   "outputs": [],
   "source": []
  }
 ],
 "metadata": {
  "kernelspec": {
   "display_name": "Python 3",
   "language": "python",
   "name": "python3"
  },
  "language_info": {
   "codemirror_mode": {
    "name": "ipython",
    "version": 3
   },
   "file_extension": ".py",
   "mimetype": "text/x-python",
   "name": "python",
   "nbconvert_exporter": "python",
   "pygments_lexer": "ipython3",
   "version": "3.8.8"
  }
 },
 "nbformat": 4,
 "nbformat_minor": 5
}
